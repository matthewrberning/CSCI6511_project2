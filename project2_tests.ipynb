{
 "cells": [
  {
   "cell_type": "code",
   "execution_count": null,
   "id": "latter-tragedy",
   "metadata": {},
   "outputs": [],
   "source": [
    "#imports"
   ]
  },
  {
   "cell_type": "code",
   "execution_count": 49,
   "id": "focused-barcelona",
   "metadata": {},
   "outputs": [
    {
     "name": "stdout",
     "output_type": "stream",
     "text": [
      "num_colors: 4\n",
      "\n",
      "vertex_list:  [1, 3, 4, 5, 2, 6, 7]\n",
      "edge_list:  [(1, 2), (1, 3), (1, 4), (1, 5), (2, 3), (2, 4), (2, 6), (2, 7), (3, 5), (3, 6), (3, 7), (4, 5), (4, 6), (4, 7), (5, 6), (5, 7), (6, 7)]\n",
      "colors_list:  [0, 1, 2, 3]\n"
     ]
    }
   ],
   "source": [
    "#strip and ingest text file\n",
    "file = open('gc_1.txt', 'r')\n",
    "Lines = file.readlines()\n",
    "\n",
    "vertex_list = []\n",
    "edge_list = []\n",
    "colors_list = []\n",
    "# i = 1\n",
    "\n",
    "\n",
    "for line in Lines:\n",
    "#     print(line)\n",
    "    if line.startswith(\"#\"):\n",
    "        continue\n",
    "    elif 'colors' in line:\n",
    "        num_colors = int(line.strip()[-1]) \n",
    "        print(f\"num_colors: {num_colors}\")\n",
    "        for i in range(num_colors):\n",
    "            colors_list.append(i)\n",
    "        \n",
    "    else:\n",
    "        line = line.strip().split(',')\n",
    "#         print(i, line)\n",
    "#         i+=1\n",
    "        if (int(line[0]), int(line[1])) not in edge_list and (int(line[1]), int(line[0])) not in edge_list:\n",
    "            edge_list.append((int(line[0]), int(line[1])))\n",
    "        if int(line[0]) not in vertex_list:\n",
    "            vertex_list.append(int(line[0]))\n",
    "        elif int(line[1]) not in vertex_list:\n",
    "            vertex_list.append(int(line[1]))\n",
    "        else:\n",
    "            continue\n",
    "    \n",
    "#variables            \n",
    "print(\"\\nvertex_list: \", vertex_list)\n",
    "#constraints\n",
    "print(\"edge_list: \", edge_list)\n",
    "#domains\n",
    "print(\"colors_list: \", colors_list)"
   ]
  },
  {
   "cell_type": "code",
   "execution_count": 59,
   "id": "furnished-heart",
   "metadata": {},
   "outputs": [
    {
     "data": {
      "text/plain": [
       "1"
      ]
     },
     "execution_count": 59,
     "metadata": {},
     "output_type": "execute_result"
    }
   ],
   "source": [
    "colors = [18,1,1,2,3]\n",
    "min_pos = colors.index(min(colors)) \n",
    "min_pos\n"
   ]
  },
  {
   "cell_type": "code",
   "execution_count": 50,
   "id": "amber-reference",
   "metadata": {},
   "outputs": [],
   "source": [
    "csp = {\"VARIABLES\": vertex_list, \"DOMAINS\": colors_list, \"CONSTRAINTS\": edge_list}"
   ]
  },
  {
   "cell_type": "code",
   "execution_count": 51,
   "id": "natural-routine",
   "metadata": {},
   "outputs": [],
   "source": [
    "def base_case(assignment):\n",
    "    '''\n",
    "    returns true if every variable (vertex) has been assigned an elemnt of the domain (color)\n",
    "    if there is a lingering \"None\" then that var still needs an assignment\n",
    "    '''\n",
    "    if None not in (assignment.values()):\n",
    "        return True"
   ]
  },
  {
   "cell_type": "code",
   "execution_count": 52,
   "id": "bibliographic-committee",
   "metadata": {},
   "outputs": [],
   "source": [
    "def create_assignment_dict(csp):\n",
    "    '''\n",
    "    initialize/create a dictionary \n",
    "    - the keys are all of the variables (vertexes)\n",
    "    - the values are a placeholder value (None) \n",
    "    because they have not yet been assigned an element from the domain (colors)\n",
    "    when they each have an assignment that is a complete soloution to the csp\n",
    "    '''\n",
    "    assignment_dict = {}\n",
    "    for var in csp[\"VARIABLES\"]:\n",
    "        assignment_dict[var] = None\n",
    "    return assignment_dict"
   ]
  },
  {
   "cell_type": "code",
   "execution_count": 53,
   "id": "helpful-radius",
   "metadata": {},
   "outputs": [],
   "source": [
    "def create_AC3_dict(csp):\n",
    "    '''\n",
    "    initialize/create a dictionary \n",
    "    - the keys are all of the variables (vertexes)\n",
    "    - the values are lists, each list is the domain (colors) that could be assigned to that vertex\n",
    "    when initialized, the domain for each vertex is all of the possible colors\n",
    "    as we progress through assignments we then can prune the possible values from the domains of each vertex \n",
    "\n",
    "    '''\n",
    "    ac3_dict = {}\n",
    "    for var in csp[\"VARIABLES\"]:\n",
    "        ac3_dict[var] = csp[\"DOMAINS\"]\n",
    "    return ac3_dict"
   ]
  },
  {
   "cell_type": "code",
   "execution_count": 54,
   "id": "nasty-greeting",
   "metadata": {},
   "outputs": [],
   "source": [
    "counter = 0\n",
    "\n",
    "def select_unassigned_variable(variables, assignment):\n",
    "    for var in variables:\n",
    "        if assignment[var] is None:\n",
    "            return var\n",
    "def is_consistent(assignment, constraints):\n",
    "    global counter\n",
    "    counter += 1\n",
    "    for edge in constraints: \n",
    "        vertex1 = edge[0]\n",
    "        vertex2 = edge[1]\n",
    "        \n",
    "        if assignment[vertex1] is not None and assignment[vertex2] is not None and assignment[vertex1] == assignment[vertex2]:\n",
    "        \n",
    "        \n",
    "        \n",
    "            #remove this and replace with individual edge checking \n",
    "            #if constraint_violated(assignment):  #(check each edge, and make sure that the vertexes do not conflict)\n",
    "            return False\n",
    "    return True\n",
    "\n",
    "def backtracking_search(assignment, csp):\n",
    "    if base_case(assignment):\n",
    "        return assignment\n",
    "    var = select_unassigned_variable(csp[\"VARIABLES\"], assignment)\n",
    "    for value in csp[\"DOMAINS\"]:\n",
    "        assignment[var] = value\n",
    "        if is_consistent(assignment, csp[\"CONSTRAINTS\"]):\n",
    "            result = backtracking_search(assignment, csp)\n",
    "            if result != \"FAILURE\":\n",
    "                return result\n",
    "        assignment[var] = None\n",
    "    return \"FAILURE\"\n",
    "\n",
    "\n",
    "\n"
   ]
  },
  {
   "cell_type": "code",
   "execution_count": 55,
   "id": "powered-union",
   "metadata": {},
   "outputs": [
    {
     "name": "stdout",
     "output_type": "stream",
     "text": [
      "16 {1: 0, 3: 1, 4: 1, 5: 2, 2: 2, 6: 0, 7: 3}\n"
     ]
    }
   ],
   "source": [
    "result = backtracking_search(create_assignment_dict(csp), csp)\n",
    "print(counter, result)"
   ]
  },
  {
   "cell_type": "code",
   "execution_count": 32,
   "id": "soviet-identity",
   "metadata": {},
   "outputs": [
    {
     "data": {
      "text/plain": [
       "{1: [0, 1, 2, 3],\n",
       " 3: [0, 1, 2, 3],\n",
       " 4: [0, 1, 2, 3],\n",
       " 5: [0, 1, 2, 3],\n",
       " 2: [0, 1, 2, 3],\n",
       " 6: [0, 1, 2, 3],\n",
       " 7: [0, 1, 2, 3]}"
      ]
     },
     "execution_count": 32,
     "metadata": {},
     "output_type": "execute_result"
    }
   ],
   "source": [
    "create_AC3_dict(csp)"
   ]
  },
  {
   "cell_type": "code",
   "execution_count": null,
   "id": "unavailable-selection",
   "metadata": {},
   "outputs": [],
   "source": [
    "# select a vertex\n",
    "# check if the constraints have been violated\n",
    "# for each edge in the edge list check that the vertex on one side has not been assigned to the same color as \n",
    "#the vertex on the other side of the edge\n",
    "\n",
    "\n",
    "def is_consistent(assignment, constraints):\n",
    "    global counter\n",
    "    counter += 1\n",
    "    for edge in constraints: \n",
    "        vertex1 = edge[0]\n",
    "        vertex2 = edge[1]\n",
    "        \n",
    "        if assignment[vertex1] is not None and assignment[vertex2] is not None and assignment[vertex1] == assignment[vertex2]:\n",
    "        \n",
    "        \n",
    "        \n",
    "            #remove this and replace with individual edge checking \n",
    "            #if constraint_violated(assignment):  #(check each edge, and make sure that the vertexes do not conflict)\n",
    "            return False\n",
    "    return True"
   ]
  },
  {
   "cell_type": "code",
   "execution_count": null,
   "id": "wicked-pleasure",
   "metadata": {},
   "outputs": [],
   "source": [
    "\n",
    "\n",
    "\n",
    "\n",
    "\n",
    "\n",
    "\n",
    "\n",
    "\n"
   ]
  },
  {
   "cell_type": "code",
   "execution_count": 21,
   "id": "entertaining-synthetic",
   "metadata": {},
   "outputs": [],
   "source": []
  },
  {
   "cell_type": "code",
   "execution_count": null,
   "id": "serious-efficiency",
   "metadata": {},
   "outputs": [],
   "source": []
  },
  {
   "cell_type": "code",
   "execution_count": null,
   "id": "aggressive-moisture",
   "metadata": {},
   "outputs": [],
   "source": []
  }
 ],
 "metadata": {
  "kernelspec": {
   "display_name": "Python 3",
   "language": "python",
   "name": "python3"
  },
  "language_info": {
   "codemirror_mode": {
    "name": "ipython",
    "version": 3
   },
   "file_extension": ".py",
   "mimetype": "text/x-python",
   "name": "python",
   "nbconvert_exporter": "python",
   "pygments_lexer": "ipython3",
   "version": "3.8.5"
  }
 },
 "nbformat": 4,
 "nbformat_minor": 5
}
